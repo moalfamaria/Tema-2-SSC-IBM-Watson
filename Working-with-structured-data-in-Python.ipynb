{
    "cells": [
        {
            "cell_type": "markdown",
            "metadata": {},
            "source": "#TEMA 2 SSC <br>\nStudent: Olarescu Stefan <br>\nGrupa: 342 A3 <br>\n\n\n# Working with structured data in Python using Beautiful Soup"
        },
        {
            "cell_type": "code",
            "execution_count": 332,
            "metadata": {},
            "outputs": [],
            "source": "import numpy as np\nimport pandas as pd\nimport requests\nfrom bs4 import BeautifulSoup as bbb"
        },
        {
            "cell_type": "markdown",
            "metadata": {},
            "source": "Am importat requests si BeautifulSoup pentru a reusi sa extrag date din diferite URL-uri. Datele sunt citite direct de pe URL dar putem stabili si o cale locala unde sa rulam notebook-ul local pe laptopul fiecaruia. De asemenea, doresc sa salvez aceste date in storage-ul meu cu numele cloud-object-storage-so."
        },
        {
            "cell_type": "code",
            "execution_count": 333,
            "metadata": {},
            "outputs": [],
            "source": "url1='https://altex.ro/casti-pioneer-se-e3-cu-fir-in-ear-vernil/cpd/CASSEE3GR/' \nurl2='https://altex.ro/casti-samsung-galaxy-buds-sm-r170nzkarom-true-wireless-bluetooth-in-ear-microfon-negru/cpd/CASR170NZKAR/'\nurl3='https://altex.ro/casti-skullcandy-indy-s2ssw-m003-true-wireless-bluetooth-in-ear-microfon-negru/cpd/CASINDYBK/'\nurl4='https://altex.ro/casti-skullcandy-hesh-2-s6hbgy-374-bluetooth-over-ear-microfon-negru/cpd/CASS6HBGY-374/'\nurl5='https://altex.ro/casti-sony-wh-ch510-bluetooth-on-ear-microfon-albastru/cpd/CASCH510L/'"
        },
        {
            "cell_type": "markdown",
            "metadata": {},
            "source": "Am adaugat cateva link-uri cu produsele care ma intereseaza."
        },
        {
            "cell_type": "code",
            "execution_count": 334,
            "metadata": {},
            "outputs": [],
            "source": "page1 = requests.get(url1) \npage2 = requests.get(url2) \npage3 = requests.get(url3) \npage4 = requests.get(url4) \npage5 = requests.get(url5) "
        },
        {
            "cell_type": "code",
            "execution_count": 335,
            "metadata": {},
            "outputs": [],
            "source": "soup1 = bbb(page1.content, 'html.parser')\nsoup2 = bbb(page2.content, 'html.parser')\nsoup3 = bbb(page3.content, 'html.parser')\nsoup4 = bbb(page4.content, 'html.parser')\nsoup5 = bbb(page5.content, 'html.parser')"
        },
        {
            "cell_type": "markdown",
            "metadata": {},
            "source": "Am folosit un parser de html pentru a prelua informatiile necesare. \"bbb\" este un alias stabilit de catre mine pentru a usura munca cu libraria Beautiul Soup ce are rolul de a extrage si analiza documentele de tip HTML si XML."
        },
        {
            "cell_type": "markdown",
            "metadata": {
                "scrolled": true
            },
            "source": "print(page1.content)"
        },
        {
            "cell_type": "markdown",
            "metadata": {},
            "source": "Am verificat ce afiseaza contentul primului link."
        },
        {
            "cell_type": "markdown",
            "metadata": {},
            "source": "print(soup1) "
        },
        {
            "cell_type": "markdown",
            "metadata": {},
            "source": "Dupa o prima parsare utilizand BeautifulSoup, contentul arata mult mai bine."
        },
        {
            "cell_type": "code",
            "execution_count": 341,
            "metadata": {},
            "outputs": [],
            "source": "value1 = soup1.find(\"div\", {\"class\":\"Price-current\"})\nvalue2 = soup1.find(\"div\", {\"class\":\"my-0 lg:my-3\"})\n\nvalue3 = soup2.find(\"div\", {\"class\":\"Price-current\"})\nvalue4 = soup2.find(\"div\", {\"class\":\"my-0 lg:my-3\"})\n\nvalue5 = soup3.find(\"div\", {\"class\":\"Price-current\"})\nvalue6 = soup3.find(\"div\", {\"class\":\"my-0 lg:my-3\"})\n\nvalue7 = soup4.find(\"div\", {\"class\":\"Price-current\"})\nvalue8 = soup4.find(\"div\", {\"class\":\"my-0 lg:my-3\"})\n\nvalue9 = soup5.find(\"div\", {\"class\":\"Price-current\"})\nvalue10 = soup5.find(\"div\", {\"class\":\"my-0 lg:my-3\"})"
        },
        {
            "cell_type": "markdown",
            "metadata": {},
            "source": "Am extras numele produsului si pretul acestuia."
        },
        {
            "cell_type": "code",
            "execution_count": 342,
            "metadata": {},
            "outputs": [
                {
                    "name": "stdout",
                    "output_type": "stream",
                    "text": "69,99lei\nCasti PIONEER SE-E3, Cu Fir, In-Ear, vernil\n497,99lei\nCasti SAMSUNG Galaxy Buds SM-R170NZKAROM, True Wireless Bluetooth, In-Ear, Microfon, negru\n345,79lei\nCasti SKULLCANDY Indy S2SSW-M003, True Wireless Bluetooth, In-Ear, Microfon, negru\n199,95lei\nCasti SKULLCANDY Hesh 2 S6HBGY-374, Bluetooth, Over-Ear, Microfon, negru\n169,99lei\nCasti SONY WH-CH510, Bluetooth, On-Ear, Microfon, albastru\n"
                }
            ],
            "source": "print(value1.text)\nprint(value2.text)\nprint(value3.text)\nprint(value4.text)\nprint(value5.text)\nprint(value6.text)\nprint(value7.text)\nprint(value8.text)\nprint(value9.text)\nprint(value10.text)"
        },
        {
            "cell_type": "markdown",
            "metadata": {},
            "source": "Am afisat aceste rezultate si ulterior am creat un grafic."
        },
        {
            "cell_type": "code",
            "execution_count": 343,
            "metadata": {
                "scrolled": true
            },
            "outputs": [
                {
                    "data": {
                        "text/html": "<div>\n<style scoped>\n    .dataframe tbody tr th:only-of-type {\n        vertical-align: middle;\n    }\n\n    .dataframe tbody tr th {\n        vertical-align: top;\n    }\n\n    .dataframe thead th {\n        text-align: right;\n    }\n</style>\n<table border=\"1\" class=\"dataframe\">\n  <thead>\n    <tr style=\"text-align: right;\">\n      <th></th>\n      <th>Produs</th>\n      <th>Pret</th>\n    </tr>\n  </thead>\n  <tbody>\n    <tr>\n      <th>0</th>\n      <td>Casti PIONEER SE-E3</td>\n      <td>69,99lei</td>\n    </tr>\n    <tr>\n      <th>1</th>\n      <td>Casti SAMSUNG SM-R170NZKAROM</td>\n      <td>497,99lei</td>\n    </tr>\n    <tr>\n      <th>2</th>\n      <td>Casti SKULLCANDY Indy S2SSW-M003</td>\n      <td>345,79lei</td>\n    </tr>\n    <tr>\n      <th>3</th>\n      <td>Casti SKULLCANDY Hesh 2 S6HBGY-374</td>\n      <td>199,95lei</td>\n    </tr>\n    <tr>\n      <th>4</th>\n      <td>Casti SONY WH-CH510</td>\n      <td>169,99lei</td>\n    </tr>\n  </tbody>\n</table>\n</div>",
                        "text/plain": "                               Produs       Pret\n0                 Casti PIONEER SE-E3   69,99lei\n1        Casti SAMSUNG SM-R170NZKAROM  497,99lei\n2    Casti SKULLCANDY Indy S2SSW-M003  345,79lei\n3  Casti SKULLCANDY Hesh 2 S6HBGY-374  199,95lei\n4                 Casti SONY WH-CH510  169,99lei"
                    },
                    "execution_count": 343,
                    "metadata": {},
                    "output_type": "execute_result"
                }
            ],
            "source": "data = {'Produs':       ['Casti PIONEER SE-E3','Casti SAMSUNG SM-R170NZKAROM','Casti SKULLCANDY Indy S2SSW-M003','Casti SKULLCANDY Hesh 2 S6HBGY-374','Casti SONY WH-CH510'],\n        'Pret': [value1.text, value3.text, value5.text, value7.text, value9.text]}\nproduse = pd.DataFrame(data)\n\nproduse"
        },
        {
            "cell_type": "code",
            "execution_count": null,
            "metadata": {},
            "outputs": [],
            "source": ""
        }
    ],
    "metadata": {
        "kernelspec": {
            "display_name": "Python 3.6",
            "language": "python",
            "name": "python3"
        },
        "language_info": {
            "codemirror_mode": {
                "name": "ipython",
                "version": 3
            },
            "file_extension": ".py",
            "mimetype": "text/x-python",
            "name": "python",
            "nbconvert_exporter": "python",
            "pygments_lexer": "ipython3",
            "version": "3.6.9"
        }
    },
    "nbformat": 4,
    "nbformat_minor": 2
}