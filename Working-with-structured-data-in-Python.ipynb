{
    "cells": [
        {
            "metadata": {},
            "cell_type": "markdown",
            "source": "#TEMA 2 SSC <br>\nStudent: Olarescu Stefan <br>\nGrupa: 342 A3 <br>\n\n\n# Working with structured data in Python using Beautiful Soup"
        },
        {
            "metadata": {},
            "cell_type": "code",
            "source": "import numpy as np\nimport pandas as pd\nimport requests\nfrom bs4 import BeautifulSoup as bbb",
            "execution_count": 39,
            "outputs": []
        },
        {
            "metadata": {},
            "cell_type": "markdown",
            "source": "Am importat requests si BeautifulSoup pentru a reusi sa extrag date din diferite URL-uri. Datele sunt citite direct de pe URL dar putem stabili si o cale locala unde sa rulam notebook-ul local pe laptopul fiecaruia. De asemenea, doresc sa salvez aceste date in storage-ul meu cu numele cloud-object-storage-so."
        },
        {
            "metadata": {},
            "cell_type": "code",
            "source": "url1='https://altex.ro/casti-pioneer-se-e3-cu-fir-in-ear-negru/cpd/CASSEE3B/' \nurl2='https://altex.ro/casti-samsung-galaxy-buds-sm-r170nzkarom-true-wireless-bluetooth-in-ear-microfon-negru/cpd/CASR170NZKAR/'\nurl3='https://altex.ro/casti-skullcandy-indy-s2ssw-m003-true-wireless-bluetooth-in-ear-microfon-negru/cpd/CASINDYBK/'\nurl4='https://altex.ro/casti-skullcandy-hesh-2-s6hbgy-374-bluetooth-over-ear-microfon-negru/cpd/CASS6HBGY-374/'\nurl5='https://altex.ro/casti-sony-wh-ch510-bluetooth-on-ear-microfon-albastru/cpd/CASCH510L/'\nurl6='https://altex.ro/casca-bluetooth-plantronics-explorer-55-black/cpd/CASPLB00118/'\nurl7='https://altex.ro/casti-jabra-elite-85h-bluetooth-over-ear-microfon-noise-cancelling-bleumarin/cpd/CASELITE85HBLE/'\nurl8='https://altex.ro/casti-apple-airpods-2-mv7n2zm-a-true-wireless-bluetooth-in-ear-microfon-alb/cpd/CASAIRPODS/'\nurl9='https://altex.ro/casti-promate-gearpod-is2-cu-fir-in-ear-microfon-negru/cpd/CASGEARPODIS2BK/'\nurl10='https://altex.ro/casti-jbl-tune-220-tws-true-wireless-bluetooth-in-ear-microfon-negru/cpd/CASJBLT220TWBLK/'",
            "execution_count": 40,
            "outputs": []
        },
        {
            "metadata": {},
            "cell_type": "markdown",
            "source": "Am adaugat cateva link-uri cu produsele care ma intereseaza."
        },
        {
            "metadata": {},
            "cell_type": "code",
            "source": "page1 = requests.get(url1) \npage2 = requests.get(url2) \npage3 = requests.get(url3) \npage4 = requests.get(url4) \npage5 = requests.get(url5) \npage6 = requests.get(url6) \npage7 = requests.get(url7) \npage8 = requests.get(url8) \npage9 = requests.get(url9) \npage10 = requests.get(url10) ",
            "execution_count": 41,
            "outputs": []
        },
        {
            "metadata": {},
            "cell_type": "code",
            "source": "soup1 = bbb(page1.content, 'html.parser')\nsoup2 = bbb(page2.content, 'html.parser')\nsoup3 = bbb(page3.content, 'html.parser')\nsoup4 = bbb(page4.content, 'html.parser')\nsoup5 = bbb(page5.content, 'html.parser')\nsoup6 = bbb(page6.content, 'html.parser')\nsoup7 = bbb(page7.content, 'html.parser')\nsoup8 = bbb(page8.content, 'html.parser')\nsoup9 = bbb(page9.content, 'html.parser')\nsoup10 = bbb(page10.content, 'html.parser')",
            "execution_count": 32,
            "outputs": []
        },
        {
            "metadata": {},
            "cell_type": "markdown",
            "source": "Am folosit un parser de html pentru a prelua informatiile necesare. \"bbb\" este un alias stabilit de catre mine pentru a usura munca cu libraria Beautiul Soup ce are rolul de a extrage si analiza documentele de tip HTML si XML."
        },
        {
            "metadata": {},
            "cell_type": "code",
            "source": "#print(page1.content)",
            "execution_count": 33,
            "outputs": []
        },
        {
            "metadata": {},
            "cell_type": "markdown",
            "source": "Am verificat ce afiseaza contentul primului link."
        },
        {
            "metadata": {},
            "cell_type": "code",
            "source": "#print(soup1) ",
            "execution_count": 34,
            "outputs": []
        },
        {
            "metadata": {},
            "cell_type": "markdown",
            "source": "Dupa o prima parsare utilizand BeautifulSoup, contentul arata mult mai bine."
        },
        {
            "metadata": {},
            "cell_type": "code",
            "source": "value1 = soup1.find(\"div\", {\"class\":\"Price-current\"})\nvalue2 = soup1.find(\"div\", {\"class\":\"my-0 lg:my-3\"})\n\nvalue3 = soup2.find(\"div\", {\"class\":\"Price-current\"})\nvalue4 = soup2.find(\"div\", {\"class\":\"my-0 lg:my-3\"})\n\nvalue5 = soup3.find(\"div\", {\"class\":\"Price-current\"})\nvalue6 = soup3.find(\"div\", {\"class\":\"my-0 lg:my-3\"})\n\nvalue7 = soup4.find(\"div\", {\"class\":\"Price-current\"})\nvalue8 = soup4.find(\"div\", {\"class\":\"my-0 lg:my-3\"})\n\nvalue9 = soup5.find(\"div\", {\"class\":\"Price-current\"})\nvalue10 = soup5.find(\"div\", {\"class\":\"my-0 lg:my-3\"})\n\n\nvalue11 = soup6.find(\"div\", {\"class\":\"Price-current\"})\nvalue12 = soup6.find(\"div\", {\"class\":\"my-0 lg:my-3\"})\n\nvalue13 = soup7.find(\"div\", {\"class\":\"Price-current\"})\nvalue14 = soup7.find(\"div\", {\"class\":\"my-0 lg:my-3\"})\n\nvalue15 = soup8.find(\"div\", {\"class\":\"Price-current\"})\nvalue16 = soup8.find(\"div\", {\"class\":\"my-0 lg:my-3\"})\n\nvalue17 = soup9.find(\"div\", {\"class\":\"Price-current\"})\nvalue18 = soup9.find(\"div\", {\"class\":\"my-0 lg:my-3\"})\n\nvalue19 = soup10.find(\"div\", {\"class\":\"Price-current\"})\nvalue20 = soup10.find(\"div\", {\"class\":\"my-0 lg:my-3\"})",
            "execution_count": 35,
            "outputs": []
        },
        {
            "metadata": {},
            "cell_type": "markdown",
            "source": "Am extras numele produsului si pretul acestuia."
        },
        {
            "metadata": {},
            "cell_type": "code",
            "source": "print(value1.text)\nprint(value2.text)\nprint(value3.text)\nprint(value4.text)\nprint(value5.text)\nprint(value6.text)\nprint(value7.text)\nprint(value8.text)\nprint(value9.text)\nprint(value10.text)\n\nprint(value11.text)\nprint(value12.text)\nprint(value13.text)\nprint(value14.text)\nprint(value15.text)\nprint(value16.text)\nprint(value17.text)\nprint(value18.text)\nprint(value19.text)\nprint(value20.text)",
            "execution_count": 36,
            "outputs": [
                {
                    "output_type": "stream",
                    "text": "399,92lei\nAspirator umed/ uscat BLACK & DECKER BXVC30XTDE, 1600W, 30l\n497,99lei\nCasti SAMSUNG Galaxy Buds SM-R170NZKAROM, True Wireless Bluetooth, In-Ear, Microfon, negru\n345,79lei\nCasti SKULLCANDY Indy S2SSW-M003, True Wireless Bluetooth, In-Ear, Microfon, negru\n199,95lei\nCasti SKULLCANDY Hesh 2 S6HBGY-374, Bluetooth, Over-Ear, Microfon, negru\n169,99lei\nCasti SONY WH-CH510, Bluetooth, On-Ear, Microfon, albastru\n119,99lei\nCasca Bluetooth PLANTRONICS Explorer 55, Black\n1.199,99lei\nCasti JABRA Elite 85h, Bluetooth, Over-Ear, Microfon, Noise Cancelling, bleumarin\n729,99lei\nCasti APPLE AirPods 2 MV7N2ZM/A, True Wireless Bluetooth, In-Ear, Microfon, alb\n22,49lei\nCasti PROMATE gearPod-iS2, Cu Fir, In-Ear, Microfon, negru\n479,99lei\nCasti JBL Tune 220 TWS, True wireless Bluetooth, In-ear, Microfon, negru\n",
                    "name": "stdout"
                }
            ]
        },
        {
            "metadata": {},
            "cell_type": "markdown",
            "source": "Am afisat aceste rezultate si ulterior am creat un grafic."
        },
        {
            "metadata": {
                "scrolled": true
            },
            "cell_type": "code",
            "source": "data = {'Produs':       ['Casti PIONEER SE-E3','Casti SAMSUNG SM-R170NZKAROM','Casti SKULLCANDY Indy S2SSW-M003','Casti SKULLCANDY Hesh 2 S6HBGY-374','Casti SONY WH-CH510','Casti Plantronics explorer 55','Casti JABRA Elite 58h','Casti APPLE AirPods 2','Casti PROMATE gearPod-iS2','Casti JBL Tune 220 TWS'],\n        'Pret': [value1.text, value3.text, value5.text, value7.text, value9.text, value11.text, value13.text, value15.text, value17.text, value19.text ]}\nproduse = pd.DataFrame(data)\n\nproduse",
            "execution_count": 37,
            "outputs": [
                {
                    "output_type": "execute_result",
                    "execution_count": 37,
                    "data": {
                        "text/plain": "                               Produs         Pret\n0                 Casti PIONEER SE-E3    399,92lei\n1        Casti SAMSUNG SM-R170NZKAROM    497,99lei\n2    Casti SKULLCANDY Indy S2SSW-M003    345,79lei\n3  Casti SKULLCANDY Hesh 2 S6HBGY-374    199,95lei\n4                 Casti SONY WH-CH510    169,99lei\n5       Casti Plantronics explorer 55    119,99lei\n6               Casti JABRA Elite 58h  1.199,99lei\n7               Casti APPLE AirPods 2    729,99lei\n8           Casti PROMATE gearPod-iS2     22,49lei\n9              Casti JBL Tune 220 TWS    479,99lei",
                        "text/html": "<div>\n<style scoped>\n    .dataframe tbody tr th:only-of-type {\n        vertical-align: middle;\n    }\n\n    .dataframe tbody tr th {\n        vertical-align: top;\n    }\n\n    .dataframe thead th {\n        text-align: right;\n    }\n</style>\n<table border=\"1\" class=\"dataframe\">\n  <thead>\n    <tr style=\"text-align: right;\">\n      <th></th>\n      <th>Produs</th>\n      <th>Pret</th>\n    </tr>\n  </thead>\n  <tbody>\n    <tr>\n      <th>0</th>\n      <td>Casti PIONEER SE-E3</td>\n      <td>399,92lei</td>\n    </tr>\n    <tr>\n      <th>1</th>\n      <td>Casti SAMSUNG SM-R170NZKAROM</td>\n      <td>497,99lei</td>\n    </tr>\n    <tr>\n      <th>2</th>\n      <td>Casti SKULLCANDY Indy S2SSW-M003</td>\n      <td>345,79lei</td>\n    </tr>\n    <tr>\n      <th>3</th>\n      <td>Casti SKULLCANDY Hesh 2 S6HBGY-374</td>\n      <td>199,95lei</td>\n    </tr>\n    <tr>\n      <th>4</th>\n      <td>Casti SONY WH-CH510</td>\n      <td>169,99lei</td>\n    </tr>\n    <tr>\n      <th>5</th>\n      <td>Casti Plantronics explorer 55</td>\n      <td>119,99lei</td>\n    </tr>\n    <tr>\n      <th>6</th>\n      <td>Casti JABRA Elite 58h</td>\n      <td>1.199,99lei</td>\n    </tr>\n    <tr>\n      <th>7</th>\n      <td>Casti APPLE AirPods 2</td>\n      <td>729,99lei</td>\n    </tr>\n    <tr>\n      <th>8</th>\n      <td>Casti PROMATE gearPod-iS2</td>\n      <td>22,49lei</td>\n    </tr>\n    <tr>\n      <th>9</th>\n      <td>Casti JBL Tune 220 TWS</td>\n      <td>479,99lei</td>\n    </tr>\n  </tbody>\n</table>\n</div>"
                    },
                    "metadata": {}
                }
            ]
        },
        {
            "metadata": {},
            "cell_type": "markdown",
            "source": "Am salvat tabelul ca si dataframe si ulterior l-am salvat in format csv si in format excel (extensia xlsx)."
        },
        {
            "metadata": {},
            "cell_type": "code",
            "source": "import pandas as pd\n\ndata = {'Produs':       ['Casti PIONEER SE-E3','Casti SAMSUNG SM-R170NZKAROM','Casti SKULLCANDY Indy S2SSW-M003','Casti SKULLCANDY Hesh 2 S6HBGY-374','Casti SONY WH-CH510','Casti Plantronics explorer 55','Casti JABRA Elite 58h','Casti APPLE AirPods 2','Casti PROMATE gearPod-iS2','Casti JBL Tune 220 TWS'],\n        'Pret': [value1.text, value3.text, value5.text, value7.text, value9.text, value11.text, value13.text, value15.text, value17.text, value19.text ]}\n\ndf = pd.DataFrame(data, columns= ['Produs', 'Pret'])\n\nprint (df)\n\nfrom IPython.display import FileLink, FileLinks\n\ndf.to_csv(r\"data.csv\", index=False)\ndf.to_excel(r\"data.xlsx\", index=False)",
            "execution_count": 38,
            "outputs": [
                {
                    "output_type": "stream",
                    "text": "                               Produs         Pret\n0                 Casti PIONEER SE-E3    399,92lei\n1        Casti SAMSUNG SM-R170NZKAROM    497,99lei\n2    Casti SKULLCANDY Indy S2SSW-M003    345,79lei\n3  Casti SKULLCANDY Hesh 2 S6HBGY-374    199,95lei\n4                 Casti SONY WH-CH510    169,99lei\n5       Casti Plantronics explorer 55    119,99lei\n6               Casti JABRA Elite 58h  1.199,99lei\n7               Casti APPLE AirPods 2    729,99lei\n8           Casti PROMATE gearPod-iS2     22,49lei\n9              Casti JBL Tune 220 TWS    479,99lei\n",
                    "name": "stdout"
                }
            ]
        },
        {
            "metadata": {},
            "cell_type": "code",
            "source": "",
            "execution_count": null,
            "outputs": []
        }
    ],
    "metadata": {
        "kernelspec": {
            "name": "python3",
            "display_name": "Python 3.6",
            "language": "python"
        },
        "language_info": {
            "name": "python",
            "version": "3.6.9",
            "mimetype": "text/x-python",
            "codemirror_mode": {
                "name": "ipython",
                "version": 3
            },
            "pygments_lexer": "ipython3",
            "nbconvert_exporter": "python",
            "file_extension": ".py"
        }
    },
    "nbformat": 4,
    "nbformat_minor": 2
}